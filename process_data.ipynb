{
 "cells": [
  {
   "cell_type": "code",
   "execution_count": 2,
   "metadata": {},
   "outputs": [],
   "source": [
    "import pandas as pd"
   ]
  },
  {
   "cell_type": "code",
   "execution_count": 3,
   "metadata": {},
   "outputs": [
    {
     "data": {
      "text/html": [
       "<div>\n",
       "<style scoped>\n",
       "    .dataframe tbody tr th:only-of-type {\n",
       "        vertical-align: middle;\n",
       "    }\n",
       "\n",
       "    .dataframe tbody tr th {\n",
       "        vertical-align: top;\n",
       "    }\n",
       "\n",
       "    .dataframe thead th {\n",
       "        text-align: right;\n",
       "    }\n",
       "</style>\n",
       "<table border=\"1\" class=\"dataframe\">\n",
       "  <thead>\n",
       "    <tr style=\"text-align: right;\">\n",
       "      <th></th>\n",
       "      <th>participant_id</th>\n",
       "      <th>visit</th>\n",
       "      <th>year_of_sampling</th>\n",
       "      <th>age_at_sampling</th>\n",
       "      <th>strain</th>\n",
       "      <th>year_of_isolation</th>\n",
       "      <th>log_hi_titer</th>\n",
       "    </tr>\n",
       "  </thead>\n",
       "  <tbody>\n",
       "    <tr>\n",
       "      <th>0</th>\n",
       "      <td>1</td>\n",
       "      <td>V4</td>\n",
       "      <td>2014</td>\n",
       "      <td>60-69</td>\n",
       "      <td>A/Beijing/1989</td>\n",
       "      <td>1989</td>\n",
       "      <td>3</td>\n",
       "    </tr>\n",
       "    <tr>\n",
       "      <th>3</th>\n",
       "      <td>1</td>\n",
       "      <td>V4</td>\n",
       "      <td>2014</td>\n",
       "      <td>60-69</td>\n",
       "      <td>A/Beijing/1992</td>\n",
       "      <td>1992</td>\n",
       "      <td>5</td>\n",
       "    </tr>\n",
       "    <tr>\n",
       "      <th>4</th>\n",
       "      <td>1</td>\n",
       "      <td>V4</td>\n",
       "      <td>2014</td>\n",
       "      <td>60-69</td>\n",
       "      <td>A/Bangkok/1979</td>\n",
       "      <td>1979</td>\n",
       "      <td>3</td>\n",
       "    </tr>\n",
       "    <tr>\n",
       "      <th>7</th>\n",
       "      <td>1</td>\n",
       "      <td>V4</td>\n",
       "      <td>2014</td>\n",
       "      <td>60-69</td>\n",
       "      <td>A/Brisbane/2007</td>\n",
       "      <td>2007</td>\n",
       "      <td>7</td>\n",
       "    </tr>\n",
       "    <tr>\n",
       "      <th>8</th>\n",
       "      <td>1</td>\n",
       "      <td>V4</td>\n",
       "      <td>2014</td>\n",
       "      <td>60-69</td>\n",
       "      <td>A/California/2004</td>\n",
       "      <td>2004</td>\n",
       "      <td>7</td>\n",
       "    </tr>\n",
       "  </tbody>\n",
       "</table>\n",
       "</div>"
      ],
      "text/plain": [
       "   participant_id visit  year_of_sampling age_at_sampling             strain  \\\n",
       "0               1    V4              2014           60-69     A/Beijing/1989   \n",
       "3               1    V4              2014           60-69     A/Beijing/1992   \n",
       "4               1    V4              2014           60-69     A/Bangkok/1979   \n",
       "7               1    V4              2014           60-69    A/Brisbane/2007   \n",
       "8               1    V4              2014           60-69  A/California/2004   \n",
       "\n",
       "   year_of_isolation  log_hi_titer  \n",
       "0               1989             3  \n",
       "3               1992             5  \n",
       "4               1979             3  \n",
       "7               2007             7  \n",
       "8               2004             7  "
      ]
     },
     "execution_count": 3,
     "metadata": {},
     "output_type": "execute_result"
    }
   ],
   "source": [
    "data = pd.read_csv('raw_data/figure-1-source-data-1-hi-titer-at-baseline.csv').query('visit == \"V4\"')\n",
    "data.head()"
   ]
  },
  {
   "cell_type": "code",
   "execution_count": 6,
   "metadata": {},
   "outputs": [
    {
     "data": {
      "text/plain": [
       "array(['A/HongKong/1968', 'X31', 'A/England/1972', 'A/Victoria/1975',\n",
       "       'A/Texas/1977', 'A/Bangkok/1979', 'A/Philippines/1982',\n",
       "       'A/Mississippi/1985', 'A/Sichuan/1987', 'A/Beijing/1989',\n",
       "       'A/Beijing/1992', 'A/Wuhan/1995', 'A/Victoria/1998',\n",
       "       'A/Fujian/2000', 'A/Fujian/2002', 'A/California/2004',\n",
       "       'A/Brisbane/2007', 'A/Perth/2009', 'A/Victoria/2009',\n",
       "       'A/Texas/2012', 'A/HongKong/2014'], dtype=object)"
      ]
     },
     "execution_count": 6,
     "metadata": {},
     "output_type": "execute_result"
    }
   ],
   "source": [
    "data.sort_values(by='year_of_isolation')['strain'].unique()"
   ]
  },
  {
   "attachments": {},
   "cell_type": "markdown",
   "metadata": {},
   "source": [
    "Make spreadsheet with each of these strains and their associated sequences (check if AA or NT is needed).\n",
    "Input into fasttree to get newick file."
   ]
  }
 ],
 "metadata": {
  "kernelspec": {
   "display_name": "base",
   "language": "python",
   "name": "python3"
  },
  "language_info": {
   "codemirror_mode": {
    "name": "ipython",
    "version": 3
   },
   "file_extension": ".py",
   "mimetype": "text/x-python",
   "name": "python",
   "nbconvert_exporter": "python",
   "pygments_lexer": "ipython3",
   "version": "3.7.6"
  },
  "orig_nbformat": 4,
  "vscode": {
   "interpreter": {
    "hash": "40d3a090f54c6569ab1632332b64b2c03c39dcf918b08424e98f38b5ae0af88f"
   }
  }
 },
 "nbformat": 4,
 "nbformat_minor": 2
}
